{
  "nbformat": 4,
  "nbformat_minor": 0,
  "metadata": {
    "colab": {
      "provenance": []
    },
    "kernelspec": {
      "name": "python3",
      "display_name": "Python 3"
    },
    "language_info": {
      "name": "python"
    }
  },
  "cells": [
    {
      "cell_type": "code",
      "execution_count": null,
      "metadata": {
        "colab": {
          "base_uri": "https://localhost:8080/"
        },
        "id": "BoGsHZ7mmiud",
        "outputId": "e9d508ed-6f23-4547-b739-a40933f79f51"
      },
      "outputs": [
        {
          "output_type": "stream",
          "name": "stdout",
          "text": [
            "The adjacency List representing the graph is:\n",
            "{0: [1, 3], 1: [0, 2, 3], 2: [4, 1, 5], 3: [4, 0, 1], 4: [2, 3, 5], 5: [4, 2], 6: []}\n",
            "BFS traversal of graph with source 0 is:\n",
            "0-->1-->3-->2-->4-->5-->"
          ]
        }
      ],
      "source": [
        "from queue import Queue\n",
        "\n",
        "graph = {0: [1, 3], 1: [0, 2, 3], 2: [4, 1, 5], 3: [4, 0, 1], 4: [2, 3, 5], 5: [4, 2], 6: []}\n",
        "print(\"The adjacency List representing the graph is:\")\n",
        "print(graph)\n",
        "\n",
        "\n",
        "def bfs(graph, source):\n",
        "    Q = Queue()\n",
        "    visited_vertices = set()\n",
        "    Q.put(source)\n",
        "    visited_vertices.update({0})\n",
        "    while not Q.empty():\n",
        "        vertex = Q.get()\n",
        "        print(vertex, end=\"-->\")\n",
        "        for u in graph[vertex]:\n",
        "            if u not in visited_vertices:\n",
        "                Q.put(u)\n",
        "                visited_vertices.update({u})\n",
        "\n",
        "print(\"BFS traversal of graph with source 0 is:\")\n",
        "bfs(graph, 0)"
      ]
    },
    {
      "cell_type": "code",
      "source": [
        "graph1 = {\n",
        "    'A' : ['B','S'],\n",
        "    'B' : ['A'],\n",
        "    'C' : ['D','E','F','S'],\n",
        "    'D' : ['C'],\n",
        "    'E' : ['C','H'],\n",
        "    'F' : ['C','G'],\n",
        "    'G' : ['F','S'],\n",
        "    'H' : ['E','G'],\n",
        "    'S' : ['A','C','G']\n",
        "}\n",
        "\n",
        "def dfs(graph, node, visited):\n",
        "    if node not in visited:\n",
        "        visited.append(node)\n",
        "        for k in graph[node]:\n",
        "            dfs(graph,k, visited)\n",
        "    return visited\n",
        "\n",
        "visited = dfs(graph1,'D', [])\n",
        "print(visited)"
      ],
      "metadata": {
        "colab": {
          "base_uri": "https://localhost:8080/"
        },
        "id": "OCpdRIbjstfs",
        "outputId": "f1fefc06-7b2c-4714-9590-2e81ab2ecfad"
      },
      "execution_count": null,
      "outputs": [
        {
          "output_type": "stream",
          "name": "stdout",
          "text": [
            "['D', 'C', 'E', 'H', 'G', 'F', 'S', 'A', 'B']\n"
          ]
        }
      ]
    },
    {
      "cell_type": "code",
      "source": [
        "from collections import defaultdict, deque\n",
        "\n",
        "def bfs(graph, start, goal):\n",
        "    queue = deque([(start, [start])])\n",
        "    visited = set()\n",
        "\n",
        "    while queue:\n",
        "        current, path = queue.popleft()\n",
        "\n",
        "        if current == goal:\n",
        "            return path\n",
        "\n",
        "        if current not in visited:\n",
        "            visited.add(current)\n",
        "            for neighbor in graph[current]:\n",
        "                queue.append((neighbor, path + [neighbor]))\n",
        "\n",
        "    return None  # No path found\n",
        "\n",
        "# Define the graph representing the cities and their connections\n",
        "graph = {\n",
        "    'Trivandrum': ['Kochi', 'Chennai'],\n",
        "    'Kochi': ['Trivandrum', 'Chennai', 'Bangalore'],\n",
        "    'Chennai': ['Trivandrum', 'Kochi', 'Bangalore', 'Kolkata'],\n",
        "    'Bangalore': ['Kochi', 'Chennai', 'Hyderabad', 'Kolkata'],\n",
        "    'Hyderabad': ['Bangalore', 'Kolkata'],\n",
        "    'Kolkata': ['Chennai', 'Bangalore', 'Hyderabad']\n",
        "}\n",
        "\n",
        "start_city = 'Trivandrum'\n",
        "goal_city = 'Kolkata'\n",
        "\n",
        "path = bfs(graph, start_city, goal_city)\n",
        "\n",
        "if path:\n",
        "    print(f\"Path from {start_city} to {goal_city}: {path}\")\n",
        "else:\n",
        "    print(f\"No path found from {start_city} to {goal_city}\")"
      ],
      "metadata": {
        "colab": {
          "base_uri": "https://localhost:8080/"
        },
        "id": "_pKpJJwVp4Z3",
        "outputId": "50d781db-3bd6-422c-acf9-d17e515d5809"
      },
      "execution_count": null,
      "outputs": [
        {
          "output_type": "stream",
          "name": "stdout",
          "text": [
            "Path from Trivandrum to Kolkata: ['Trivandrum', 'Chennai', 'Kolkata']\n"
          ]
        }
      ]
    },
    {
      "cell_type": "code",
      "source": [
        "from collections import defaultdict, deque\n",
        "\n",
        "def bfs(graph, start, end):\n",
        "    queue = deque([(start, [start], 0)])\n",
        "    visited = set([start])\n",
        "    while queue:\n",
        "        (vertex, path, distance) = queue.popleft()\n",
        "        for neighbor, weight in graph[vertex].items():\n",
        "            if neighbor == end:\n",
        "                return path + [neighbor], distance + weight\n",
        "            elif neighbor not in visited:\n",
        "                visited.add(neighbor)\n",
        "                queue.append((neighbor, path + [neighbor], distance + weight))\n",
        "    return None\n",
        "\n",
        "# Example usage\n",
        "graph = defaultdict(dict)\n",
        "graph['Trivandrum'] = {'TM': 1800}\n",
        "graph['TM'] = {'YS': 700, 'GOA': 1800}\n",
        "graph['YS'] = {'HYD': 2001}\n",
        "graph['GOA'] = {'NAG': 750}\n",
        "graph['HYD'] = {'WR': 120}\n",
        "graph['NAG'] = {'JH': 780}\n",
        "graph['WR'] = {'BS': 510}\n",
        "graph['JH'] = {'KH': 512}\n",
        "graph['BS'] = {'BBS': 470}\n",
        "graph['BBS'] = {'KH': 300}\n",
        "graph['KH'] = {'HWH': 150}\n",
        "graph['HWH'] = {'Kolkata': 25}\n",
        "graph['Kolkata'] = {}\n",
        "\n",
        "start = 'Trivandrum'\n",
        "end = 'Kolkata'\n",
        "\n",
        "path, distance = bfs(graph, start, end)\n",
        "if path:\n",
        "    print(f\"The path from {start} to {end} is: {' -> '.join(path)}\")\n",
        "    print(f\"The total distance traveled is {distance} km.\")\n",
        "else:\n",
        "    print(f\"No path found from {start} to {end}\")"
      ],
      "metadata": {
        "colab": {
          "base_uri": "https://localhost:8080/"
        },
        "id": "l33nuUjAqVni",
        "outputId": "76163aa5-457b-4fc2-d6b3-9da0fbc8744b"
      },
      "execution_count": null,
      "outputs": [
        {
          "output_type": "stream",
          "name": "stdout",
          "text": [
            "The path from Trivandrum to Kolkata is: Trivandrum -> TM -> GOA -> NAG -> JH -> KH -> HWH -> Kolkata\n",
            "The total distance traveled is 5817 km.\n"
          ]
        }
      ]
    },
    {
      "cell_type": "code",
      "source": [
        "from collections import defaultdict\n",
        "\n",
        "def dfs(graph, start, end, visited=None, path=None, distance=0):\n",
        "    if visited is None:\n",
        "        visited = set()\n",
        "    if path is None:\n",
        "        path = [start]\n",
        "    visited.add(start)\n",
        "    if start == end:\n",
        "        return path, distance\n",
        "    for neighbor, weight in graph[start].items():\n",
        "        if neighbor not in visited:\n",
        "            new_path = path + [neighbor]\n",
        "            new_distance = distance + weight\n",
        "            result = dfs(graph, neighbor, end, visited, new_path, new_distance)\n",
        "            if result is not None:\n",
        "                return result\n",
        "    return None\n",
        "\n",
        "# Example usage\n",
        "graph = defaultdict(dict)\n",
        "graph['Trivandrum'] = {'TM': 1800}\n",
        "graph['TM'] = {'YS': 700, 'GOA': 1800}\n",
        "graph['YS'] = {'HYD': 2001}\n",
        "graph['GOA'] = {'NAG': 750}\n",
        "graph['HYD'] = {'WR': 120}\n",
        "graph['NAG'] = {'JH': 780}\n",
        "graph['WR'] = {'BS': 510}\n",
        "graph['JH'] = {'KH': 512}\n",
        "graph['BS'] = {'BBS': 470}\n",
        "graph['BBS'] = {'KH': 300}\n",
        "graph['KH'] = {'HWH': 150}\n",
        "graph['HWH'] = {'Kolkata': 25}\n",
        "graph['Kolkata'] = {}\n",
        "\n",
        "start = 'Trivandrum'\n",
        "end = 'Kolkata'\n",
        "\n",
        "result = dfs(graph, start, end)\n",
        "if result:\n",
        "    path, distance = result\n",
        "    print(f\"The path from {start} to {end} is: {' -> '.join(path)}\")\n",
        "    print(f\"The total distance traveled is {distance} km.\")\n",
        "else:\n",
        "    print(f\"No path found from {start} to {end}\")"
      ],
      "metadata": {
        "id": "YHH99g_Fqbdi",
        "outputId": "ca05c8e4-e0ad-46a0-9b23-af38ad44b60d",
        "colab": {
          "base_uri": "https://localhost:8080/"
        }
      },
      "execution_count": null,
      "outputs": [
        {
          "output_type": "stream",
          "name": "stdout",
          "text": [
            "The path from Trivandrum to Kolkata is: Trivandrum -> TM -> YS -> HYD -> WR -> BS -> BBS -> KH -> HWH -> Kolkata\n",
            "The total distance traveled is 6076 km.\n"
          ]
        }
      ]
    }
  ]
}